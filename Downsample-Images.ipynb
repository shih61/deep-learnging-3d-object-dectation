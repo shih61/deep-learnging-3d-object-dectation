{
 "cells": [
  {
   "cell_type": "code",
   "execution_count": 10,
   "metadata": {},
   "outputs": [
    {
     "name": "stdout",
     "output_type": "stream",
     "text": [
      "Requirement already satisfied: tqdm in /home/hsb2140/miniconda3/lib/python3.7/site-packages (4.36.1)\n",
      "Requirement already satisfied: opencv-python in /home/hsb2140/miniconda3/lib/python3.7/site-packages (4.1.1.26)\n",
      "Requirement already satisfied: numpy>=1.14.5 in /home/hsb2140/miniconda3/lib/python3.7/site-packages (from opencv-python) (1.17.3)\n"
     ]
    }
   ],
   "source": [
    "!pip install opencv-python -qqq\n",
    "!pip install tqdm\n",
    "!pip install opencv-python"
   ]
  },
  {
   "cell_type": "code",
   "execution_count": 1,
   "metadata": {},
   "outputs": [],
   "source": [
    "import os\n",
    "import cv2\n",
    "from IPython.display import Image, display\n",
    "from PIL import Image as Img\n",
    "from tqdm.notebook import trange, tqdm\n",
    "from matplotlib import pyplot as plt"
   ]
  },
  {
   "cell_type": "code",
   "execution_count": 2,
   "metadata": {},
   "outputs": [
    {
     "data": {
      "text/plain": [
       "192276"
      ]
     },
     "execution_count": 2,
     "metadata": {},
     "output_type": "execute_result"
    }
   ],
   "source": [
    "# images = os.listdir('/home/ys3152/train_dataset/images')\n",
    "images = os.listdir('/home/ys3152/test_images/')\n",
    "len(images)"
   ]
  },
  {
   "cell_type": "code",
   "execution_count": null,
   "metadata": {},
   "outputs": [
    {
     "data": {
      "application/vnd.jupyter.widget-view+json": {
       "model_id": "f9756b83c4ad439f9eef7278960c5af1",
       "version_major": 2,
       "version_minor": 0
      },
      "text/plain": [
       "HBox(children=(IntProgress(value=0, max=192276), HTML(value='')))"
      ]
     },
     "metadata": {},
     "output_type": "display_data"
    }
   ],
   "source": [
    "\n",
    "# DATA_PATH = '/home/ys3152/train_dataset/images/'\n",
    "# OUTPUT_PATH = '/drive2/train_data/images/'\n",
    "DATA_PATH = '/home/ys3152/test_images/'\n",
    "OUTPUT_PATH = '/drive2/test_data/images/'\n",
    "WIDTH, HEIGHT = 416, 416\n",
    "\n",
    "def downsample_image(im):  \n",
    "    # Size of the image in pixels (size of orginal image) \n",
    "    # (This is not mandatory) \n",
    "    width, height = im.size\n",
    "\n",
    "    # Crop Boundaries Image\n",
    "    left = 50\n",
    "    top = 50\n",
    "    right = width-50\n",
    "    bottom = height -50\n",
    "    im1 = im.crop((left, top, right, bottom)) \n",
    "    \n",
    "    # Resize to smaller size\n",
    "    im1.thumbnail((640, 360), Img.ANTIALIAS)\n",
    "    return im1\n",
    "\n",
    "for file in tqdm(images):\n",
    "    photo_filename = DATA_PATH + file\n",
    "    \n",
    "    orig_img = Img.open(photo_filename) \n",
    "    \n",
    "    downsampled_img = downsample_image(orig_img)\n",
    "    downsampled_img.save(OUTPUT_PATH + file)\n",
    "    \n",
    "print('DONE')"
   ]
  },
  {
   "cell_type": "code",
   "execution_count": 2,
   "metadata": {},
   "outputs": [
    {
     "data": {
      "text/plain": [
       "2"
      ]
     },
     "execution_count": 2,
     "metadata": {},
     "output_type": "execute_result"
    }
   ],
   "source": [
    "images = os.listdir('/home/hsb2140/artifacts/bev_train_data')[:2]\n",
    "len(images)"
   ]
  },
  {
   "cell_type": "code",
   "execution_count": 5,
   "metadata": {},
   "outputs": [
    {
     "name": "stdout",
     "output_type": "stream",
     "text": [
      "/home/hsb2140/artifacts/bev_train_data/ba6f6fa21ac2b5ded2dda2ca3b29d05ec41409c880d9d468a0903ebf4cdff3f3_target.png\n",
      "(336, 336)\n"
     ]
    },
    {
     "data": {
      "image/png": "[encoded data removed]",
      "text/plain": [
       "<Figure size 432x288 with 1 Axes>"
      ]
     },
     "metadata": {
      "needs_background": "light"
     },
     "output_type": "display_data"
    },
    {
     "name": "stdout",
     "output_type": "stream",
     "text": [
      "/home/hsb2140/artifacts/bev_train_data/734a555aaea80d8982125abc57da8d1e4c361c5aa6426233fbee215d48391e19_target.png\n",
      "(336, 336)\n"
     ]
    },
    {
     "data": {
      "image/png": "[encoded data removed]",
      "text/plain": [
       "<Figure size 432x288 with 1 Axes>"
      ]
     },
     "metadata": {
      "needs_background": "light"
     },
     "output_type": "display_data"
    }
   ],
   "source": [
    "DATA_PATH = '/home/hsb2140/artifacts/bev_train_data/'\n",
    "\n",
    "for file in images:\n",
    "    photo_filename = DATA_PATH + file\n",
    "    print(photo_filename)\n",
    "    im = cv2.imread(photo_filename, cv2.IMREAD_UNCHANGED)\n",
    "    print(im.shape)\n",
    "    plt.imshow(im)\n",
    "    plt.show()\n",
    "#     cv2.waitKey(0)\n",
    "#     cv2.destroyAllWindows()"
   ]
  },
  {
   "cell_type": "code",
   "execution_count": null,
   "metadata": {},
   "outputs": [],
   "source": []
  }
 ],
 "metadata": {
  "kernelspec": {
   "display_name": "Python 3",
   "language": "python",
   "name": "python3"
  },
  "language_info": {
   "codemirror_mode": {
    "name": "ipython",
    "version": 3
   },
   "file_extension": ".py",
   "mimetype": "text/x-python",
   "name": "python",
   "nbconvert_exporter": "python",
   "pygments_lexer": "ipython3",
   "version": "3.7.4"
  }
 },
 "nbformat": 4,
 "nbformat_minor": 2
}
