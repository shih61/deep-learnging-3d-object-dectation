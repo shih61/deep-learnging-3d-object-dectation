{
 "cells": [
  {
   "cell_type": "code",
   "execution_count": 10,
   "metadata": {},
   "outputs": [
    {
     "name": "stdout",
     "output_type": "stream",
     "text": [
      "Requirement already satisfied: tqdm in /home/hsb2140/miniconda3/lib/python3.7/site-packages (4.36.1)\n",
      "Requirement already satisfied: opencv-python in /home/hsb2140/miniconda3/lib/python3.7/site-packages (4.1.1.26)\n",
      "Requirement already satisfied: numpy>=1.14.5 in /home/hsb2140/miniconda3/lib/python3.7/site-packages (from opencv-python) (1.17.3)\n"
     ]
    }
   ],
   "source": [
    "!pip install opencv-python -qqq\n",
    "!pip install tqdm\n",
    "!pip install opencv-python"
   ]
  },
  {
   "cell_type": "code",
   "execution_count": 14,
   "metadata": {},
   "outputs": [
    {
     "data": {
      "text/plain": [
       "158757"
      ]
     },
     "execution_count": 14,
     "metadata": {},
     "output_type": "execute_result"
    }
   ],
   "source": [
    "import os\n",
    "from matplotlib import pyplot as plt\n",
    "images = os.listdir('/home/ys3152/train_dataset/images')\n",
    "len(images)"
   ]
  },
  {
   "cell_type": "code",
   "execution_count": 15,
   "metadata": {},
   "outputs": [
    {
     "data": {
      "application/vnd.jupyter.widget-view+json": {
       "model_id": "678070631296432eaaf6aa9064ec2cb7",
       "version_major": 2,
       "version_minor": 0
      },
      "text/plain": [
       "HBox(children=(IntProgress(value=0, max=158757), HTML(value='')))"
      ]
     },
     "metadata": {},
     "output_type": "display_data"
    },
    {
     "name": "stdout",
     "output_type": "stream",
     "text": [
      "\n",
      "DONE\n"
     ]
    }
   ],
   "source": [
    "import cv2\n",
    "from IPython.display import Image, display\n",
    "from PIL import Image as Img\n",
    "from tqdm.notebook import trange, tqdm\n",
    "\n",
    "DATA_PATH = '/home/ys3152/train_dataset/images/'\n",
    "OUTPUT_PATH = '/drive2/train_data/images/'\n",
    "WIDTH, HEIGHT = 416, 416\n",
    "\n",
    "def downsample_image(im):  \n",
    "    # Size of the image in pixels (size of orginal image) \n",
    "    # (This is not mandatory) \n",
    "    width, height = im.size\n",
    "\n",
    "    # Crop Boundaries Image\n",
    "    left = 50\n",
    "    top = 50\n",
    "    right = width-50\n",
    "    bottom = height -50\n",
    "    im1 = im.crop((left, top, right, bottom)) \n",
    "    \n",
    "    # Resize to smaller size\n",
    "    im1.thumbnail((640, 360), Img.ANTIALIAS)\n",
    "    return im1\n",
    "\n",
    "for file in tqdm(images):\n",
    "    photo_filename = DATA_PATH + file\n",
    "    \n",
    "    orig_img = Img.open(photo_filename) \n",
    "    \n",
    "    downsampled_img = downsample_image(orig_img)\n",
    "    downsampled_img.save(OUTPUT_PATH + file)\n",
    "    \n",
    "print('DONE')"
   ]
  },
  {
   "cell_type": "code",
   "execution_count": null,
   "metadata": {},
   "outputs": [],
   "source": []
  }
 ],
 "metadata": {
  "kernelspec": {
   "display_name": "Python 3",
   "language": "python",
   "name": "python3"
  },
  "language_info": {
   "codemirror_mode": {
    "name": "ipython",
    "version": 3
   },
   "file_extension": ".py",
   "mimetype": "text/x-python",
   "name": "python",
   "nbconvert_exporter": "python",
   "pygments_lexer": "ipython3",
   "version": "3.7.4"
  }
 },
 "nbformat": 4,
 "nbformat_minor": 2
}
