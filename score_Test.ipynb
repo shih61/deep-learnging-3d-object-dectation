{
 "cells": [
  {
   "cell_type": "code",
   "execution_count": 2,
   "metadata": {},
   "outputs": [],
   "source": [
    "import csv\n",
    "import eva\n",
    "import copy\n",
    "import math\n",
    "import pandas as pd\n",
    "import numpy as np\n",
    "from pyquaternion import Quaternion\n",
    "from shapely.geometry import Polygon"
   ]
  },
  {
   "cell_type": "code",
   "execution_count": 12,
   "metadata": {},
   "outputs": [],
   "source": [
    "class Box3D:\n",
    "    \"\"\"Data class used during detection evaluation. Can be a prediction or ground truth.\"\"\"\n",
    "\n",
    "    def __init__(self, x, y, z, xl, yl, zl, r):\n",
    "        \n",
    "\n",
    "        \n",
    "\n",
    "        # Assign.\n",
    "        \n",
    "\n",
    "        self.volume = xl * yl * zl\n",
    "        self.r = r\n",
    "        self.quaternion = Quaternion(r)\n",
    "\n",
    "        self.width, self.length, self.height = xl, yl, zl\n",
    "\n",
    "        self.center_x, self.center_y, self.center_z = x, y, z\n",
    "\n",
    "        self.min_z = self.center_z - self.height / 2\n",
    "        self.max_z = self.center_z + self.height / 2\n",
    "\n",
    "        self.ground_bbox_coords = None\n",
    "        self.ground_bbox_coords = self.get_ground_bbox_coords()\n",
    "\n",
    "    @staticmethod\n",
    "    def check_orthogonal(a, b, c):\n",
    "        \"\"\"Check that vector (b - a) is orthogonal to the vector (c - a).\"\"\"\n",
    "        return np.isclose((b[0] - a[0]) * (c[0] - a[0]) + (b[1] - a[1]) * (c[1] - a[1]), 0)\n",
    "\n",
    "    def get_ground_bbox_coords(self):\n",
    "        if self.ground_bbox_coords is not None:\n",
    "            return self.ground_bbox_coords\n",
    "        return self.calculate_ground_bbox_coords()\n",
    "\n",
    "    def calculate_ground_bbox_coords(self):\n",
    "        \"\"\"We assume that the 3D box has lower plane parallel to the ground.\n",
    "\n",
    "        Returns: Polygon with 4 points describing the base.\n",
    "\n",
    "        \"\"\"\n",
    "        if self.ground_bbox_coords is not None:\n",
    "            return self.ground_bbox_coords\n",
    "\n",
    "        #rotation_matrix = self.quaternion.rotation_matrix\n",
    "        #print(rotation_matrix)\n",
    "        cos_angle = math.cos(math.radians(self.r))\n",
    "        sin_angle = math.sin(math.radians(self.r))\n",
    "        point_0_x = self.center_x + self.length / 2 * cos_angle + self.width / 2 * sin_angle\n",
    "        point_0_y = self.center_y + self.length / 2 * sin_angle - self.width / 2 * cos_angle\n",
    "\n",
    "        point_1_x = self.center_x + self.length / 2 * cos_angle - self.width / 2 * sin_angle\n",
    "        point_1_y = self.center_y + self.length / 2 * sin_angle + self.width / 2 * cos_angle\n",
    "\n",
    "        point_2_x = self.center_x - self.length / 2 * cos_angle - self.width / 2 * sin_angle\n",
    "        point_2_y = self.center_y - self.length / 2 * sin_angle + self.width / 2 * cos_angle\n",
    "\n",
    "        point_3_x = self.center_x - self.length / 2 * cos_angle + self.width / 2 * sin_angle\n",
    "        point_3_y = self.center_y - self.length / 2 * sin_angle - self.width / 2 * cos_angle\n",
    "\n",
    "        point_0 = point_0_x, point_0_y\n",
    "        point_1 = point_1_x, point_1_y\n",
    "        point_2 = point_2_x, point_2_y\n",
    "        point_3 = point_3_x, point_3_y\n",
    "#        print(point_0)\n",
    "\n",
    "#         assert self.check_orthogonal(point_0, point_1, point_3)\n",
    "#         assert self.check_orthogonal(point_1, point_0, point_2)\n",
    "#         assert self.check_orthogonal(point_2, point_1, point_3)\n",
    "#         assert self.check_orthogonal(point_3, point_0, point_2)\n",
    "#         print(point_0)\n",
    "#         print(point_1)\n",
    "#         print(point_2)\n",
    "#         print(point_3)\n",
    "        self.ground_bbox_coords = Polygon(\n",
    "            [\n",
    "                (point_0_x, point_0_y),\n",
    "                (point_1_x, point_1_y),\n",
    "                (point_2_x, point_2_y),\n",
    "                (point_3_x, point_3_y),\n",
    "                (point_0_x, point_0_y),\n",
    "            ]\n",
    "        )\n",
    "\n",
    "        return self.ground_bbox_coords\n",
    "\n",
    "    def get_height_intersection(self, other):\n",
    "        min_z = max(other.min_z, self.min_z)\n",
    "        max_z = min(other.max_z, self.max_z)\n",
    "\n",
    "        return max(0, max_z - min_z)\n",
    "\n",
    "    def get_area_intersection(self, other) -> float:\n",
    "        result = self.ground_bbox_coords.intersection(other.ground_bbox_coords).area\n",
    "\n",
    "        assert result <= self.width * self.length\n",
    "\n",
    "        return result\n",
    "\n",
    "    def get_intersection(self, other) -> float:\n",
    "        height_intersection = self.get_height_intersection(other)\n",
    "\n",
    "        area_intersection = self.ground_bbox_coords.intersection(other.ground_bbox_coords).area\n",
    "\n",
    "        return height_intersection * area_intersection\n",
    "\n",
    "    def get_iou(self, other):\n",
    "        intersection = self.get_intersection(other)\n",
    "        union = self.volume + other.volume - intersection\n",
    "        #print(intersection / union)\n",
    "        iou = np.clip(intersection / union, 0, 1)\n",
    "\n",
    "        return iou\n",
    "\n",
    "    def __repr__(self):\n",
    "        return str(self.serialize())\n",
    "\n",
    "    def serialize(self) -> dict:\n",
    "        \"\"\"Returns: Serialized instance as dict.\"\"\"\n",
    "\n",
    "        return {\n",
    "            \"sample_token\": self.sample_token,\n",
    "            \"translation\": self.translation,\n",
    "            \"size\": self.size,\n",
    "            \"rotation\": self.rotation,\n",
    "            \"name\": self.name,\n",
    "            \"volume\": self.volume,\n",
    "            \"score\": self.score,\n",
    "        }\n",
    "\n",
    "\n",
    "def group_by_key(detections, key):\n",
    "    groups = defaultdict(list)\n",
    "    for detection in detections:\n",
    "        groups[detection[key]].append(detection)\n",
    "    return groups\n",
    "\n",
    "\n",
    "def wrap_in_box(input):\n",
    "    result = {}\n",
    "    for key, value in input.items():\n",
    "        result[key] = [Box3D(**x) for x in value]\n",
    "\n",
    "    return result"
   ]
  },
  {
   "cell_type": "code",
   "execution_count": 13,
   "metadata": {},
   "outputs": [],
   "source": [
    "def evatwobox(predict, ground, thd):\n",
    "    boxa = Box3D(float(predict[0]), float(predict[1]), float(predict[2]), float(predict[3]),\n",
    "                float(predict[4]), float(predict[5]), float(predict[6]))\n",
    "    boxb = Box3D(float(ground[0]), float(ground[1]), float(ground[2]), float(ground[3]),\n",
    "                float(ground[4]), float(ground[5]), float(ground[6]))\n",
    "    if boxa.get_iou(boxb) > thd:\n",
    "        return True"
   ]
  },
  {
   "cell_type": "code",
   "execution_count": null,
   "metadata": {},
   "outputs": [],
   "source": [
    "groud_truth_file = 'small_train.csv'\n",
    "prediction_file = 'small_test.csv'"
   ]
  },
  {
   "cell_type": "code",
   "execution_count": 14,
   "metadata": {},
   "outputs": [
    {
     "data": {
      "text/plain": [
       "['Id', 'PredictionString']"
      ]
     },
     "execution_count": 14,
     "metadata": {},
     "output_type": "execute_result"
    }
   ],
   "source": [
    "trainreader = csv.reader(open(groud_truth_file, newline=''))\n",
    "next(trainreader)"
   ]
  },
  {
   "cell_type": "code",
   "execution_count": 15,
   "metadata": {},
   "outputs": [
    {
     "data": {
      "text/plain": [
       "['Id', 'PredictionString']"
      ]
     },
     "execution_count": 15,
     "metadata": {},
     "output_type": "execute_result"
    }
   ],
   "source": [
    "testreader = csv.reader(open(prediction_file, newline=''))\n",
    "next(testreader)"
   ]
  },
  {
   "cell_type": "code",
   "execution_count": 20,
   "metadata": {
    "scrolled": true
   },
   "outputs": [],
   "source": [
    "count = 0\n",
    "nrows = 6\n",
    "thd = 0.5\n",
    "\n",
    "image_score = []\n",
    "for idx, (row1, row2) in enumerate(zip(trainreader, testreader)):\n",
    "    thd_score = []\n",
    "    for thd in np.arange(0.05, 1.0, 0.05):\n",
    "        tp = 0\n",
    "        fp = 0\n",
    "        listpred = row2[1].split(\" \")\n",
    "        predicts = [listpred[int(i)*8: int(i)*8+8] for i in range(int(len(listpred) /8) )]\n",
    "        listgt = row1[1].split(\" \")\n",
    "        gt = [listgt[int(i)*8: int(i)*8+8] for i in range(int(len(listgt) /8) )]\n",
    "        for i in range(len(predicts)):\n",
    "            for j in range(len(gt)):\n",
    "                #print(predicts[i])\n",
    "                if evatwobox(predicts[i], gt[j], thd):\n",
    "                    if predicts[i][7] == gt[i][7]:\n",
    "                        tp+=1\n",
    "                        gt[i][7]=\"used\"\n",
    "                    else:\n",
    "                        fp+=1\n",
    "        fn = int(len(gt)) - tp\n",
    "        #print(tp, fp, fn)\n",
    "        score = tp / (tp + fp + fn)\n",
    "        thd_score.append(score)\n",
    "    \n",
    "    image_score.append(np.mean(thd_score))\n",
    "    if nrows != -1 and idx == nrows:\n",
    "        break"
   ]
  },
  {
   "cell_type": "code",
   "execution_count": null,
   "metadata": {},
   "outputs": [],
   "source": []
  }
 ],
 "metadata": {
  "kernelspec": {
   "display_name": "Python 3",
   "language": "python",
   "name": "python3"
  },
  "language_info": {
   "codemirror_mode": {
    "name": "ipython",
    "version": 3
   },
   "file_extension": ".py",
   "mimetype": "text/x-python",
   "name": "python",
   "nbconvert_exporter": "python",
   "pygments_lexer": "ipython3",
   "version": "3.7.2"
  }
 },
 "nbformat": 4,
 "nbformat_minor": 2
}
